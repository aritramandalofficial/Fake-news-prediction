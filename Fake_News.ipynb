{
  "nbformat": 4,
  "nbformat_minor": 0,
  "metadata": {
    "colab": {
      "provenance": [],
      "authorship_tag": "ABX9TyO2Va+3xHi95gqqA1WQ4+mp"
    },
    "kernelspec": {
      "name": "python3",
      "display_name": "Python 3"
    },
    "language_info": {
      "name": "python"
    }
  },
  "cells": [
    {
      "cell_type": "markdown",
      "source": [
        "# **Fake News Prediction System Using Machine Learning**"
      ],
      "metadata": {
        "id": "_DxmVGPZV1PF"
      }
    },
    {
      "cell_type": "markdown",
      "source": [
        " Developed a Python-based machine learning model to detect fake news using **Logistic Regression**. Utilized **NLP techniques with NLTK and feature extraction** to convert text data into numerical format for accurate prediction."
      ],
      "metadata": {
        "id": "NwYp3H4MixnI"
      }
    },
    {
      "cell_type": "markdown",
      "source": [
        "## **Overview of the dataset**\n",
        "\n",
        "The dataset consists of 2,000 entries with the following features:\n",
        "\n",
        "\n",
        "\n",
        "*   id: A unique identifier for each news article.\n",
        "*   title: The headline or title of the news article.\n",
        "*   author: The name of the author who wrote the article.\n",
        "*   text: The main content or body of the article.\n",
        "*   label: The classification label indicating whether the news is real or fake.\n",
        "\n",
        "The dataset provides a diverse set of news articles, allowing the model to learn and differentiate between real and fake news effectively."
      ],
      "metadata": {
        "id": "6Eflomtfj1CS"
      }
    },
    {
      "cell_type": "code",
      "execution_count": null,
      "metadata": {
        "id": "MfbXCGJYVnrL",
        "colab": {
          "base_uri": "https://localhost:8080/"
        },
        "outputId": "8a0fb1d0-a9a4-49bc-927c-ba39b9281e50"
      },
      "outputs": [
        {
          "output_type": "stream",
          "name": "stderr",
          "text": [
            "[nltk_data] Downloading package stopwords to /root/nltk_data...\n",
            "[nltk_data]   Unzipping corpora/stopwords.zip.\n"
          ]
        }
      ],
      "source": [
        " # Importing the packages\n",
        " import numpy as np\n",
        " import pandas as pd\n",
        " import matplotlib.pyplot as plt\n",
        " import re\n",
        " import nltk\n",
        " nltk.download('stopwords')\n",
        " from nltk.corpus import stopwords\n",
        " from nltk.stem.porter import PorterStemmer\n",
        " from sklearn.feature_extraction.text import TfidfVectorizer\n",
        " from sklearn.model_selection import train_test_split\n",
        " from sklearn.linear_model import LogisticRegression\n",
        " from sklearn.metrics import accuracy_score\n"
      ]
    },
    {
      "cell_type": "markdown",
      "source": [
        "## Data Preprocessing"
      ],
      "metadata": {
        "id": "iDKdBynkhheQ"
      }
    },
    {
      "cell_type": "code",
      "source": [
        "news_dataset = pd.read_csv('/content/Fake_news_dataset.csv')"
      ],
      "metadata": {
        "id": "wXkleckArg-t"
      },
      "execution_count": null,
      "outputs": []
    },
    {
      "cell_type": "code",
      "source": [
        "news_dataset.shape"
      ],
      "metadata": {
        "colab": {
          "base_uri": "https://localhost:8080/"
        },
        "id": "iImCwFxj3at8",
        "outputId": "2ddb168b-b20f-41d5-9ce8-f47c6c4367f2"
      },
      "execution_count": null,
      "outputs": [
        {
          "output_type": "execute_result",
          "data": {
            "text/plain": [
              "(2000, 5)"
            ]
          },
          "metadata": {},
          "execution_count": 4
        }
      ]
    },
    {
      "cell_type": "code",
      "source": [
        "news_dataset.head()"
      ],
      "metadata": {
        "colab": {
          "base_uri": "https://localhost:8080/",
          "height": 206
        },
        "id": "zKeOWUhf3sIH",
        "outputId": "c48ef2e1-3bb9-4434-87f7-01d3c5b3d726"
      },
      "execution_count": null,
      "outputs": [
        {
          "output_type": "execute_result",
          "data": {
            "text/plain": [
              "   id                                              title              author  \\\n",
              "0   0  House Dem Aide: We Didn’t Even See Comey’s Let...       Darrell Lucus   \n",
              "1   1  FLYNN: Hillary Clinton, Big Woman on Campus - ...     Daniel J. Flynn   \n",
              "2   2                  Why the Truth Might Get You Fired  Consortiumnews.com   \n",
              "3   3  15 Civilians Killed In Single US Airstrike Hav...     Jessica Purkiss   \n",
              "4   4  Iranian woman jailed for fictional unpublished...      Howard Portnoy   \n",
              "\n",
              "                                                text  label  \n",
              "0  House Dem Aide: We Didn’t Even See Comey’s Let...      1  \n",
              "1  Ever get the feeling your life circles the rou...      0  \n",
              "2  Why the Truth Might Get You Fired October 29, ...      1  \n",
              "3  Videos 15 Civilians Killed In Single US Airstr...      1  \n",
              "4  Print \\nAn Iranian woman has been sentenced to...      1  "
            ],
            "text/html": [
              "\n",
              "  <div id=\"df-843e90b1-fa7c-4da3-8b4b-4dbb0d31b544\" class=\"colab-df-container\">\n",
              "    <div>\n",
              "<style scoped>\n",
              "    .dataframe tbody tr th:only-of-type {\n",
              "        vertical-align: middle;\n",
              "    }\n",
              "\n",
              "    .dataframe tbody tr th {\n",
              "        vertical-align: top;\n",
              "    }\n",
              "\n",
              "    .dataframe thead th {\n",
              "        text-align: right;\n",
              "    }\n",
              "</style>\n",
              "<table border=\"1\" class=\"dataframe\">\n",
              "  <thead>\n",
              "    <tr style=\"text-align: right;\">\n",
              "      <th></th>\n",
              "      <th>id</th>\n",
              "      <th>title</th>\n",
              "      <th>author</th>\n",
              "      <th>text</th>\n",
              "      <th>label</th>\n",
              "    </tr>\n",
              "  </thead>\n",
              "  <tbody>\n",
              "    <tr>\n",
              "      <th>0</th>\n",
              "      <td>0</td>\n",
              "      <td>House Dem Aide: We Didn’t Even See Comey’s Let...</td>\n",
              "      <td>Darrell Lucus</td>\n",
              "      <td>House Dem Aide: We Didn’t Even See Comey’s Let...</td>\n",
              "      <td>1</td>\n",
              "    </tr>\n",
              "    <tr>\n",
              "      <th>1</th>\n",
              "      <td>1</td>\n",
              "      <td>FLYNN: Hillary Clinton, Big Woman on Campus - ...</td>\n",
              "      <td>Daniel J. Flynn</td>\n",
              "      <td>Ever get the feeling your life circles the rou...</td>\n",
              "      <td>0</td>\n",
              "    </tr>\n",
              "    <tr>\n",
              "      <th>2</th>\n",
              "      <td>2</td>\n",
              "      <td>Why the Truth Might Get You Fired</td>\n",
              "      <td>Consortiumnews.com</td>\n",
              "      <td>Why the Truth Might Get You Fired October 29, ...</td>\n",
              "      <td>1</td>\n",
              "    </tr>\n",
              "    <tr>\n",
              "      <th>3</th>\n",
              "      <td>3</td>\n",
              "      <td>15 Civilians Killed In Single US Airstrike Hav...</td>\n",
              "      <td>Jessica Purkiss</td>\n",
              "      <td>Videos 15 Civilians Killed In Single US Airstr...</td>\n",
              "      <td>1</td>\n",
              "    </tr>\n",
              "    <tr>\n",
              "      <th>4</th>\n",
              "      <td>4</td>\n",
              "      <td>Iranian woman jailed for fictional unpublished...</td>\n",
              "      <td>Howard Portnoy</td>\n",
              "      <td>Print \\nAn Iranian woman has been sentenced to...</td>\n",
              "      <td>1</td>\n",
              "    </tr>\n",
              "  </tbody>\n",
              "</table>\n",
              "</div>\n",
              "    <div class=\"colab-df-buttons\">\n",
              "\n",
              "  <div class=\"colab-df-container\">\n",
              "    <button class=\"colab-df-convert\" onclick=\"convertToInteractive('df-843e90b1-fa7c-4da3-8b4b-4dbb0d31b544')\"\n",
              "            title=\"Convert this dataframe to an interactive table.\"\n",
              "            style=\"display:none;\">\n",
              "\n",
              "  <svg xmlns=\"http://www.w3.org/2000/svg\" height=\"24px\" viewBox=\"0 -960 960 960\">\n",
              "    <path d=\"M120-120v-720h720v720H120Zm60-500h600v-160H180v160Zm220 220h160v-160H400v160Zm0 220h160v-160H400v160ZM180-400h160v-160H180v160Zm440 0h160v-160H620v160ZM180-180h160v-160H180v160Zm440 0h160v-160H620v160Z\"/>\n",
              "  </svg>\n",
              "    </button>\n",
              "\n",
              "  <style>\n",
              "    .colab-df-container {\n",
              "      display:flex;\n",
              "      gap: 12px;\n",
              "    }\n",
              "\n",
              "    .colab-df-convert {\n",
              "      background-color: #E8F0FE;\n",
              "      border: none;\n",
              "      border-radius: 50%;\n",
              "      cursor: pointer;\n",
              "      display: none;\n",
              "      fill: #1967D2;\n",
              "      height: 32px;\n",
              "      padding: 0 0 0 0;\n",
              "      width: 32px;\n",
              "    }\n",
              "\n",
              "    .colab-df-convert:hover {\n",
              "      background-color: #E2EBFA;\n",
              "      box-shadow: 0px 1px 2px rgba(60, 64, 67, 0.3), 0px 1px 3px 1px rgba(60, 64, 67, 0.15);\n",
              "      fill: #174EA6;\n",
              "    }\n",
              "\n",
              "    .colab-df-buttons div {\n",
              "      margin-bottom: 4px;\n",
              "    }\n",
              "\n",
              "    [theme=dark] .colab-df-convert {\n",
              "      background-color: #3B4455;\n",
              "      fill: #D2E3FC;\n",
              "    }\n",
              "\n",
              "    [theme=dark] .colab-df-convert:hover {\n",
              "      background-color: #434B5C;\n",
              "      box-shadow: 0px 1px 3px 1px rgba(0, 0, 0, 0.15);\n",
              "      filter: drop-shadow(0px 1px 2px rgba(0, 0, 0, 0.3));\n",
              "      fill: #FFFFFF;\n",
              "    }\n",
              "  </style>\n",
              "\n",
              "    <script>\n",
              "      const buttonEl =\n",
              "        document.querySelector('#df-843e90b1-fa7c-4da3-8b4b-4dbb0d31b544 button.colab-df-convert');\n",
              "      buttonEl.style.display =\n",
              "        google.colab.kernel.accessAllowed ? 'block' : 'none';\n",
              "\n",
              "      async function convertToInteractive(key) {\n",
              "        const element = document.querySelector('#df-843e90b1-fa7c-4da3-8b4b-4dbb0d31b544');\n",
              "        const dataTable =\n",
              "          await google.colab.kernel.invokeFunction('convertToInteractive',\n",
              "                                                    [key], {});\n",
              "        if (!dataTable) return;\n",
              "\n",
              "        const docLinkHtml = 'Like what you see? Visit the ' +\n",
              "          '<a target=\"_blank\" href=https://colab.research.google.com/notebooks/data_table.ipynb>data table notebook</a>'\n",
              "          + ' to learn more about interactive tables.';\n",
              "        element.innerHTML = '';\n",
              "        dataTable['output_type'] = 'display_data';\n",
              "        await google.colab.output.renderOutput(dataTable, element);\n",
              "        const docLink = document.createElement('div');\n",
              "        docLink.innerHTML = docLinkHtml;\n",
              "        element.appendChild(docLink);\n",
              "      }\n",
              "    </script>\n",
              "  </div>\n",
              "\n",
              "\n",
              "<div id=\"df-082d10d0-496b-4555-a52c-104106185d2a\">\n",
              "  <button class=\"colab-df-quickchart\" onclick=\"quickchart('df-082d10d0-496b-4555-a52c-104106185d2a')\"\n",
              "            title=\"Suggest charts\"\n",
              "            style=\"display:none;\">\n",
              "\n",
              "<svg xmlns=\"http://www.w3.org/2000/svg\" height=\"24px\"viewBox=\"0 0 24 24\"\n",
              "     width=\"24px\">\n",
              "    <g>\n",
              "        <path d=\"M19 3H5c-1.1 0-2 .9-2 2v14c0 1.1.9 2 2 2h14c1.1 0 2-.9 2-2V5c0-1.1-.9-2-2-2zM9 17H7v-7h2v7zm4 0h-2V7h2v10zm4 0h-2v-4h2v4z\"/>\n",
              "    </g>\n",
              "</svg>\n",
              "  </button>\n",
              "\n",
              "<style>\n",
              "  .colab-df-quickchart {\n",
              "      --bg-color: #E8F0FE;\n",
              "      --fill-color: #1967D2;\n",
              "      --hover-bg-color: #E2EBFA;\n",
              "      --hover-fill-color: #174EA6;\n",
              "      --disabled-fill-color: #AAA;\n",
              "      --disabled-bg-color: #DDD;\n",
              "  }\n",
              "\n",
              "  [theme=dark] .colab-df-quickchart {\n",
              "      --bg-color: #3B4455;\n",
              "      --fill-color: #D2E3FC;\n",
              "      --hover-bg-color: #434B5C;\n",
              "      --hover-fill-color: #FFFFFF;\n",
              "      --disabled-bg-color: #3B4455;\n",
              "      --disabled-fill-color: #666;\n",
              "  }\n",
              "\n",
              "  .colab-df-quickchart {\n",
              "    background-color: var(--bg-color);\n",
              "    border: none;\n",
              "    border-radius: 50%;\n",
              "    cursor: pointer;\n",
              "    display: none;\n",
              "    fill: var(--fill-color);\n",
              "    height: 32px;\n",
              "    padding: 0;\n",
              "    width: 32px;\n",
              "  }\n",
              "\n",
              "  .colab-df-quickchart:hover {\n",
              "    background-color: var(--hover-bg-color);\n",
              "    box-shadow: 0 1px 2px rgba(60, 64, 67, 0.3), 0 1px 3px 1px rgba(60, 64, 67, 0.15);\n",
              "    fill: var(--button-hover-fill-color);\n",
              "  }\n",
              "\n",
              "  .colab-df-quickchart-complete:disabled,\n",
              "  .colab-df-quickchart-complete:disabled:hover {\n",
              "    background-color: var(--disabled-bg-color);\n",
              "    fill: var(--disabled-fill-color);\n",
              "    box-shadow: none;\n",
              "  }\n",
              "\n",
              "  .colab-df-spinner {\n",
              "    border: 2px solid var(--fill-color);\n",
              "    border-color: transparent;\n",
              "    border-bottom-color: var(--fill-color);\n",
              "    animation:\n",
              "      spin 1s steps(1) infinite;\n",
              "  }\n",
              "\n",
              "  @keyframes spin {\n",
              "    0% {\n",
              "      border-color: transparent;\n",
              "      border-bottom-color: var(--fill-color);\n",
              "      border-left-color: var(--fill-color);\n",
              "    }\n",
              "    20% {\n",
              "      border-color: transparent;\n",
              "      border-left-color: var(--fill-color);\n",
              "      border-top-color: var(--fill-color);\n",
              "    }\n",
              "    30% {\n",
              "      border-color: transparent;\n",
              "      border-left-color: var(--fill-color);\n",
              "      border-top-color: var(--fill-color);\n",
              "      border-right-color: var(--fill-color);\n",
              "    }\n",
              "    40% {\n",
              "      border-color: transparent;\n",
              "      border-right-color: var(--fill-color);\n",
              "      border-top-color: var(--fill-color);\n",
              "    }\n",
              "    60% {\n",
              "      border-color: transparent;\n",
              "      border-right-color: var(--fill-color);\n",
              "    }\n",
              "    80% {\n",
              "      border-color: transparent;\n",
              "      border-right-color: var(--fill-color);\n",
              "      border-bottom-color: var(--fill-color);\n",
              "    }\n",
              "    90% {\n",
              "      border-color: transparent;\n",
              "      border-bottom-color: var(--fill-color);\n",
              "    }\n",
              "  }\n",
              "</style>\n",
              "\n",
              "  <script>\n",
              "    async function quickchart(key) {\n",
              "      const quickchartButtonEl =\n",
              "        document.querySelector('#' + key + ' button');\n",
              "      quickchartButtonEl.disabled = true;  // To prevent multiple clicks.\n",
              "      quickchartButtonEl.classList.add('colab-df-spinner');\n",
              "      try {\n",
              "        const charts = await google.colab.kernel.invokeFunction(\n",
              "            'suggestCharts', [key], {});\n",
              "      } catch (error) {\n",
              "        console.error('Error during call to suggestCharts:', error);\n",
              "      }\n",
              "      quickchartButtonEl.classList.remove('colab-df-spinner');\n",
              "      quickchartButtonEl.classList.add('colab-df-quickchart-complete');\n",
              "    }\n",
              "    (() => {\n",
              "      let quickchartButtonEl =\n",
              "        document.querySelector('#df-082d10d0-496b-4555-a52c-104106185d2a button');\n",
              "      quickchartButtonEl.style.display =\n",
              "        google.colab.kernel.accessAllowed ? 'block' : 'none';\n",
              "    })();\n",
              "  </script>\n",
              "</div>\n",
              "\n",
              "    </div>\n",
              "  </div>\n"
            ],
            "application/vnd.google.colaboratory.intrinsic+json": {
              "type": "dataframe",
              "variable_name": "news_dataset",
              "summary": "{\n  \"name\": \"news_dataset\",\n  \"rows\": 2000,\n  \"fields\": [\n    {\n      \"column\": \"id\",\n      \"properties\": {\n        \"dtype\": \"number\",\n        \"std\": 577,\n        \"min\": 0,\n        \"max\": 1999,\n        \"num_unique_values\": 2000,\n        \"samples\": [\n          1860,\n          353,\n          1333\n        ],\n        \"semantic_type\": \"\",\n        \"description\": \"\"\n      }\n    },\n    {\n      \"column\": \"title\",\n      \"properties\": {\n        \"dtype\": \"string\",\n        \"num_unique_values\": 1943,\n        \"samples\": [\n          \"Putin scared the CIA by replacing Microsoft with Russian product (subtitled)\",\n          \"As Obama Heads to Vietnam, Current Events Overshadow History - The New York Times\",\n          \"Is Obama preparing a parting shot on Israel? This President must not bind the next\"\n        ],\n        \"semantic_type\": \"\",\n        \"description\": \"\"\n      }\n    },\n    {\n      \"column\": \"author\",\n      \"properties\": {\n        \"dtype\": \"category\",\n        \"num_unique_values\": 907,\n        \"samples\": [\n          \"Craig S. Smith\",\n          \"Sunday Devotional: The whole Universe is as a grain \\u2014 Fellowship of the Minds | kommonsentsjane\",\n          \"David Tanis\"\n        ],\n        \"semantic_type\": \"\",\n        \"description\": \"\"\n      }\n    },\n    {\n      \"column\": \"text\",\n      \"properties\": {\n        \"dtype\": \"string\",\n        \"num_unique_values\": 1979,\n        \"samples\": [\n          \"November 2015 Ads Watch: Israel Loving Hollywood Actor Just Issued Major Plea To America In 3 Minutes That\\u2019ll Rock The Election Oct 27, 2016 Previous post \\nIn an impassioned reminder that the freedoms and safety enjoyed by millions of Americans are at risk, actor John Voight has issued a clarion call for voters to save their nation by preventing Democratic presidential nominee Hillary Clinton from being elected. \\n\\u201cWe were once a country of freedom, and now we are becoming a country of tyranny. We are witness to our own people burning down and looting our own cities: Ferguson, Milwaukee, Orlando, Baltimore,\\u201d said Voight in a new video. \\u201cWe are all witness to our own people killing our police.\\u201d \\nVoight has said in the past that Republican presidential nominee Donald Trump stirs fear in his opponents because he \\u201crepresents a form of freedom none of them ever saw before, and they are bewildered about it, and frightened about it.\\u201d \\nVoight said terrorism has come to America\\u2019s shores under the policies of leading Democrats. \\n\\u201cIslamic terrorists have killed thousands of people all over our country, and Hillary and Obama want to be politically correct and \\nFOR ENTIRE ARTICLE CLICK LINK\",\n          \"Three prominent universities were sued on Tuesday, accused of allowing their employees to be charged excessive fees on their retirement savings. The universities  \\u2014   the Massachusetts Institute of Technology, New York University and Yale  \\u2014   each have retirement plans holding more than $3 billion in assets and are being individually sued by a number of their employees in cases seeking   status. The lawyer representing the three groups of plaintiffs, Jerome J. Schlichter, is a pioneer in retirement plan litigation. Over the last decade, he has filed more than 2lawsuits on behalf of workers in 401( k) retirement plans and has been widely credited with lowering plan fees across corporate America. With the suits filed in federal courts on Tuesday, the focus has turned to a   corner of the retirement savings market, 403( b) plans, which are named for a section of the tax code. The accounts are similar to 401( k) plans, but are offered by public schools and nonprofit institutions like universities and hospitals. The complaints allege that the universities, as the plan sponsors, failed to monitor excessive fees paid to administer the plans and did not replace more expensive,   investments with cheaper ones. Had the plans eliminated their long lists of investment options and used their bargaining power to cut costs, the complaints argue, participants could have collectively saved tens of millions of dollars. \\u201cIt is important for retirees and employees of universities to have the same rights and ability to build their retirement assets as employees of   companies,\\u201d said Mr. Schlichter, a founding partner of Schlichter Bogard  Denton in St. Louis. \\u201cThey shouldn\\u2019t be penalized. \\u201d In a statement, New York University said that it took the welfare of its faculty and employees seriously, including a dignified retirement. \\u201cThe retirement plans offered to them are chosen and administered carefully and prudently. We will litigate this case vigorously and expect to prevail,\\u201d said John Beckman, a university spokesman. A spokeswoman for M. I. T. said it did not comment on pending litigation, while Yale said it was \\u201ccautious and careful\\u201d in administering its plans and would defend itself vigorously. More attention is being paid to investment costs shouldered by American workers, who are less likely today to have pension plans. With the strong support of the Obama administration, the Labor Department introduced new rules in April to strengthen investor protections, requiring a broader group of financial professionals to act in customers\\u2019 best interest when handling their retirement money. The aim is to reduce conflicts of interest and the fees consumers pay. Even modest reductions in costs can have a significant effect on retirees\\u2019 savings. An   example from the Labor Department: Paying one percentage point more in fees over a   career  \\u2014   say 1. 5 percent instead of 0. 5 percent  \\u2014   could leave a worker with 28 percent less at retirement. An account with $25, 00 \\u2014   and no further contributions for those 35 years  \\u2014   would rise to only $163, 00instead of $227, 000, at an annual rate of 7 percent. Mr. Schlichter said the three universities\\u2019 plans were targeted because more people were asking questions about their retirement accounts and \\u201cthese involve clear breaches of the law. \\u201d The complaint against N. Y. U.  \\u2014   which involves two 403( b) plans covering faculty, research administration and the medical school  \\u2014   centers largely on costs. The complaint said that participants were offered too many investment choices (there were more than 10options for faculty) and that many of them were too expensive. The suit, filed in Federal District Court for the Southern District of New York, singles out several investments, including the TIAA Traditional Annuity, which it said has severe restrictions and penalties for withdrawal, as well as variable annuities that have several layers of fees and have historically underperformed. A spokesman for TIAA said it offered   plans and   investments that provide lifetime income. The suit also argues that even the cheapest funds offered could have been provided for less, given the enormous size and bargaining power of the faculty and medical school plans, which together held $4. 2 billion in assets for more than 24, 00participants at the end of 2014. The complaint alleges that the university did not use its negotiating powers to select a single   record keeper for administrative tasks such as sending statements to employees. It said it also overpaid for these services for many years. The issues concerning Yale\\u2019s 403( b) retirement plan  \\u2014   which held nearly $3. 6 billion in assets in the spring of 2014  \\u2014   follow a similar pattern: multiple record keepers with excessive fees, costing participants millions of dollars over the last six years too many investments of the same style and the use of   funds instead of identical but   ones. That case was filed in Federal District Court in Connecticut. Yale eventually consolidated to one provider, TIAA, in April 2015, and swapped in some   investments, but the suit claims that the changes did not go far enough to fully protect the interests of its employees. Mr. Schlichter said participants were still burdened with sorting through more than 10options, many of which were too expensive. The complaints lodged against M. I. T. \\u2019s retirement plan (unusually, it is a 401( k) like those used by corporations) are similar but with a twist. The suit alleges that the university, because of its longstanding relationship with nearby Fidelity, did not conduct a thorough search for a plan provider, which might have provided better service for less. The retirement plan offered more than 34investment options  \\u2014   including 18Fidelity funds  \\u2014   until July 2015, when M. I. T. reduced the lineup to 37 options but still retained Fidelity as the record keeper. The complaint said that Fidelity had donated \\u201chundreds of thousands of dollars\\u201d to M. I. T. while Abigail Johnson, Fidelity\\u2019s chief executive, has served as a member of M. I. T. \\u2019s board of trustees, giving her influence over the institution\\u2019s  . Had the plan reduced its options to those on the menu it adopted last year, \\u201cparticipants would have saved over $8 million in fees in 2014 alone, and many millions more since 2010,\\u201d according to the complaint, filed in Federal District Court in Massachusetts. M. I. T. recognized that the plan structure was inefficient, the filing said, since that was part of the reason it said it made the changes. But even after the overhaul, the suit alleges, investment costs could be further reduced. Fidelity, which noted that it was not a defendant in the case, declined to comment. Mr. Schlichter\\u2019s firm has settled about half of his 2cases over the last 1years. His first case involving a 403( b) was against Novant Health, a nonprofit hospital system, which settled last year for $32 million. In a landmark case he argued last year before the Supreme Court, the justices, in a unanimous decision, agreed that plan sponsors had a \\u201ccontinuing duty to monitor investments and remove imprudent ones. \\u201d A series of suits, from Mr. Schlichter\\u2019s firm and others, continue to be filed in the corporate world: Several asset managers, including Neuberger Berman and Franklin Resources, among others, have recently been sued for putting their own investments in their employees\\u2019 401( k) plans. Some of the more prominent cases against 401( k) plans settled by Mr. Schlichter include a $62 million settlement against Lockheed Martin, $57 million from Boeing and $27. 5 million from Ameriprise, all in 2015. He also settled cases with Cigna, International Paper, Caterpillar, General Dynamics, Bechtel and Kraft. Mr. Schlichter said his firm, which works on a contingency basis, typically collects up to a third of the settlement, while the remainder goes to the plaintiffs and members of the class. He said that his settlements also required employers to make changes to their plans to ensure fees were reasonable in the future.\",\n          \"  America is going nuts. Suggestions stupidly abound about how Russian hackers are even going so far as to read people's emails. Of course there is absolutely zero evidence of this. Russians are being blamed for everything from flooded toilets, biting dogs, the tornadoes in Kansas, the kid's messy diapers, the car won't start and grandpa lost his dentures. Media encouraged hysteria This hysteria is being encouraged by the media, and especially pretentious, arrogant dishonest politicians and every deviant failure in life. Even in the hottest days of the Cold War such insanity didn't exist. The most blatant example of this recently was Vice President Biden boldly blaming Russia for hacking emails and trying to influence the election, promising that the United States was preparing to send a message to the Russian president, Vladimir V. Putin, over their plan to launch cyberwarfare against Russia and the Russian government. Days before, American intelligence agencies and the Department of Homeland Security declared that the Russian leadership was responsible for attacks on the Democratic National Committee and the leaking of stolen emails. Of course there was no truth to it \\\"We're sending a message,\\\" Mr. Biden told Chuck Todd, a talk show host. \\\"We have the capacity to do it.\\\" \\\"He'll know it,\\\" Mr. Biden added. \\\"And it will be at the time of our choosing. And under the circumstances that have the greatest impact.\\\" Later, after Mr. Biden said he was not concerned that Russia could \\\"fundamentally alter the election,\\\" Mr. Todd asked whether the American public would know if the message to Mr. Putin had been sent. \\\"Hope not,\\\" Mr. Biden responded. It was categorically proven that all of these crooked and dishonest politicians were just engaging in disinformation and war propaganda. From none other than the New York Times: \\\"Law enforcement officials say that none of the investigations so far have found any conclusive or direct link between Mr. Trump and the Russian government. And even the hacking into Democratic emails\\\" Video Do you think this is going to stop them? Do you think paranoid schizophrenic psychotic Hillary is going to stop going before Americans and telling them the Russians are doing this, that and the other thing? Hell would freeze over first. Repulsive Hillary was blaming Russians for all the problems she had caused with her corruption, her lies, her greed, her personal perversions and deviancies Hillary Clinton is a sociopath, she certainly does not feel the necessity to ever admit any of her distortions, lies and crimes. She's inherently dishonest, a sneak, a selfish person who has massive anger problems, who has hate names for all of her countrymen. She is a racist, she uses a woman card when there is no one more the antithesis of woman than her. As Pravda readers know, this failed female is responsible for the total catastrophe in the Middle East, from Iraq, to Libya especially (he, he, he we came, we saw, he died) and now Syria. Innocent Syria. Syria is a secular democracy in Middle East, well known for the diversity and tolerance of the society. No matter whether one is Sunni, Shia, Alawite, Christian ...people all consider themselves just Syrians. Divisions among the people are clearly a US/western INVENTION. Some great work has been done by: Vanessa Beeley and Tim Anderson Syrians are extremely righteous people who have always accepted, get this, ACCEPTED REFUGEES into their own country, protecting them from genocides and wars going on and now they are being attacked from without, from foreign terrorists sent there by the likes of Clinton and Obama... First \\\"Lady\\\"? I wondered why ever since Clinton was first \\\"lady\\\" and I use the term lightly... Why was she so intent on bombing Christian Serbs, innocent Serbs, just defending themselves from the aforementioned mujahadeen that were first sent to Afghanistan (see video) and then transported to the heart of Europe causing the Balkan wars and the bombing of Yugoslavia by her husband, which she agitated for, to protect these terrorists. I hope most of our readers know that Bin Laden was an employee of the CIA and during the Balkan Wars, he was in possession of a Bosnian (Muslim area) passport. Yet this corrupt female rides herself that they decided to kill off their asset, Bin Laden. They are famous for killing off their assets....a warning to all considering entering such a position. Now with the revelations about Huma Abedin I understand that all this time Hillary Clinton is involved with Saudi Arabia, ISIS head choppers all various and sundry terrorists. See the report outlining this connection, heretofore hidden, secret, washed away. This is thanks to certain Washington insiders who probably don't like the idea of being wiped off planet Earth by a nuclear explosion being planned by neocons like the Clintons and Obama. Video During the debates, Clinton made her imperial declaration that she would impose a no fly zone on Syria even though no one invited the US there, nor did the US get UN permission while Russia does have the invitation and a directive from the UN. Her imperial declaration would mean World War 3. She accuses her opponent, Mr. Trump, of having ties to Russia yet Saudi Arabia provides 2percent of campaign contributions to KKKlinton, who does their bidding. They also have given KKKlinton Foundation like 2million, plus she was given half a million worth of jewels. How is Saudi Arabia not influencing US elections and no one dares speak of it and the connections to ISIS by all of them? Today's opinion makers haven't learned the lessons they should have from the Joseph McCarthy period of US history. The demonization of Russia and Putin makes McCarthy days seem like child's play when lives and reputations were ruined. In Hillary Clinton's world and in the US government's world, there is only free speech for themselves. All others not agreeing with their insipid, globalist, war hawk, neoliberal agenda are attacked viciously both in print and physically. International law is only brought up when terrorists are getting a major thrashing, then it's \\\"Oh no, ceasefire, ceasefire (another word for rearm, regroup, reinforce) oh human rights, oh killing innocent civilians, bombing hospitals...boo hoo hoo\\\". Of course they have been constantly doing this themselves ever since World War II. The occupation of Germany and Japan has never ended and nearly a thousand bases are maintained worldwide to maintain the empire. US military are not being used to \\\"defend their country\\\" but to defend corporations, lobbies, the military industrial complex. KKKlinton crime syndicate Obama, the KKKlinton crime syndicate, and the NWO globalists are seeking to depopulate the Earth by placing a demented paranoid psycho in power, someone connected to every filth known to man: terrorists, ISIS, Nazis, Wall Street, witches, bankers, rapists, child abusers, pharmaceuticals, GMO/Monsanto poisoning of the food, bombers spreading depleted uranium all over the planet causing cancers and birth defects with radioactive contamination for the next 4 billion years, the most feudal totalitarian anti-human dictatorships that chop off heads and other body parts, that give women no rights other than slavery, in fact someone connected to human trafficking. The US sends that failure of a UN \\\"ambassador\\\" Samantha Power to do a major job of projection (a sign of a major personality disorder) to blame Russia for committing the crimes that they themselves have committed. And you can rest assured that Russia does not \\\"do the same thing\\\" and commit war crimes, deliberately target civilians to \\\"break their backs\\\" and \\\"send them to the stone age.\\\" These famous pronouncements can easily be found on the Internet. Russia does all it can to protect life, that's why Russian forces are in Syria. The psychos in Washington would have you believe that Russia is just there to protect Dr. Assad and his government. Washington consists of pathological liars. They claim that Dr. Assad is a brutal dictator killing his own people. This man is a trained physician who had planned to live his life as s doctor, but then was called upon to help his country. The truth is available to anyone on the Internet about what caused this terrorist attack on Syria, this is no civil war of a leader against his people. Those Syrians caught in this war flee to government areas for protection. During all of these ceasefires, the foreign backed terrorists continued to bomb and use chemical weapons on civilians in government areas. Never has Assad used chemical weapons and you can find the truth about this also. It all boils down to a failing empire, an empire in its final death throes, an empire gone INSANE. An endless stream of attacks on countries unable to defend themselves, regime change often of democratically elected leaders quite in violation of international law and subject to a war crimes tribunal much like that at Nuremberg: crimes against peace attacking civilians collective punishment And now their demon Hillary Clinton is seeking to finish the project of either \\\"full spectrum domination\\\" or take the world down with them. We, the free world community, have come to a conclusion and diagnosis of your mental condition, neocon criminals. Specifically, you have been judged as a danger to yourselves and others. Recommendations: indefinite confinement in a mental institution for the criminally insane. Anyone considering supporting Hillary Clinton should ask themselves these questions now knowing her connections to Saudi Arabia and ISIS/terrorists: Do you want to place a mentally ill psychotic lunatic in the White House and continue the insane policies of the neocons i.e. Clinton? Do you want to see family members thrown in a pit and shot to death ISIS style? Do you want to see family members knelt on the ground and their heads chopped off ISIS style, or maybe their hearts or organs cut to pieces? Donald Trump is a breath of fresh air to all citizens of the world who long for peace; long for attacks against defenseless countries to stop; for people to be treated equally and have jobs and security, health care and a future free from terrorism. It's not dangerous or anti-American to want to have good relations with Russia. Russia is a peaceful, democratic Christian country...not some monster bent on an empire such as Clinton and the neocons have promoted for the globalist takeover of all the peoples of the Earth. Let's not let planet Earth become a barren lifeless planet or a horror worse than Nazi Germany where no one is safe from being attacked by terrorists. The choice is clear, war with Clinton or peace and prosperity, a return to traditional values with Donald Trump and terrorists burning in hell where they belong.\"\n        ],\n        \"semantic_type\": \"\",\n        \"description\": \"\"\n      }\n    },\n    {\n      \"column\": \"label\",\n      \"properties\": {\n        \"dtype\": \"number\",\n        \"std\": 0,\n        \"min\": 0,\n        \"max\": 1,\n        \"num_unique_values\": 2,\n        \"samples\": [\n          0,\n          1\n        ],\n        \"semantic_type\": \"\",\n        \"description\": \"\"\n      }\n    }\n  ]\n}"
            }
          },
          "metadata": {},
          "execution_count": 4
        }
      ]
    },
    {
      "cell_type": "code",
      "source": [
        "#counting missing values\n",
        "\n",
        "news_dataset.isnull().sum()"
      ],
      "metadata": {
        "colab": {
          "base_uri": "https://localhost:8080/",
          "height": 241
        },
        "id": "DvloJapl4HGX",
        "outputId": "f88c03fb-0ca8-44ec-b377-e4e821d7e5a5"
      },
      "execution_count": null,
      "outputs": [
        {
          "output_type": "execute_result",
          "data": {
            "text/plain": [
              "id          0\n",
              "title      52\n",
              "author    211\n",
              "text        4\n",
              "label       0\n",
              "dtype: int64"
            ],
            "text/html": [
              "<div>\n",
              "<style scoped>\n",
              "    .dataframe tbody tr th:only-of-type {\n",
              "        vertical-align: middle;\n",
              "    }\n",
              "\n",
              "    .dataframe tbody tr th {\n",
              "        vertical-align: top;\n",
              "    }\n",
              "\n",
              "    .dataframe thead th {\n",
              "        text-align: right;\n",
              "    }\n",
              "</style>\n",
              "<table border=\"1\" class=\"dataframe\">\n",
              "  <thead>\n",
              "    <tr style=\"text-align: right;\">\n",
              "      <th></th>\n",
              "      <th>0</th>\n",
              "    </tr>\n",
              "  </thead>\n",
              "  <tbody>\n",
              "    <tr>\n",
              "      <th>id</th>\n",
              "      <td>0</td>\n",
              "    </tr>\n",
              "    <tr>\n",
              "      <th>title</th>\n",
              "      <td>52</td>\n",
              "    </tr>\n",
              "    <tr>\n",
              "      <th>author</th>\n",
              "      <td>211</td>\n",
              "    </tr>\n",
              "    <tr>\n",
              "      <th>text</th>\n",
              "      <td>4</td>\n",
              "    </tr>\n",
              "    <tr>\n",
              "      <th>label</th>\n",
              "      <td>0</td>\n",
              "    </tr>\n",
              "  </tbody>\n",
              "</table>\n",
              "</div><br><label><b>dtype:</b> int64</label>"
            ]
          },
          "metadata": {},
          "execution_count": 5
        }
      ]
    },
    {
      "cell_type": "code",
      "source": [
        "#replacing the null values with empty string\n",
        "news_dataset = news_dataset.fillna(\" \")"
      ],
      "metadata": {
        "id": "G5jozZLt4aZi"
      },
      "execution_count": null,
      "outputs": []
    },
    {
      "cell_type": "code",
      "source": [
        "# label value count\n",
        "news_dataset['label'].value_counts()"
      ],
      "metadata": {
        "colab": {
          "base_uri": "https://localhost:8080/",
          "height": 178
        },
        "id": "r5uT_A9dkaoQ",
        "outputId": "0593b89e-74fa-42d5-e4c1-04f315834bf6"
      },
      "execution_count": null,
      "outputs": [
        {
          "output_type": "execute_result",
          "data": {
            "text/plain": [
              "label\n",
              "1    1018\n",
              "0     982\n",
              "Name: count, dtype: int64"
            ],
            "text/html": [
              "<div>\n",
              "<style scoped>\n",
              "    .dataframe tbody tr th:only-of-type {\n",
              "        vertical-align: middle;\n",
              "    }\n",
              "\n",
              "    .dataframe tbody tr th {\n",
              "        vertical-align: top;\n",
              "    }\n",
              "\n",
              "    .dataframe thead th {\n",
              "        text-align: right;\n",
              "    }\n",
              "</style>\n",
              "<table border=\"1\" class=\"dataframe\">\n",
              "  <thead>\n",
              "    <tr style=\"text-align: right;\">\n",
              "      <th></th>\n",
              "      <th>count</th>\n",
              "    </tr>\n",
              "    <tr>\n",
              "      <th>label</th>\n",
              "      <th></th>\n",
              "    </tr>\n",
              "  </thead>\n",
              "  <tbody>\n",
              "    <tr>\n",
              "      <th>1</th>\n",
              "      <td>1018</td>\n",
              "    </tr>\n",
              "    <tr>\n",
              "      <th>0</th>\n",
              "      <td>982</td>\n",
              "    </tr>\n",
              "  </tbody>\n",
              "</table>\n",
              "</div><br><label><b>dtype:</b> int64</label>"
            ]
          },
          "metadata": {},
          "execution_count": 9
        }
      ]
    },
    {
      "cell_type": "code",
      "source": [
        "#merging author name and title\n",
        "news_dataset['content'] = news_dataset['author'] + news_dataset['title']\n",
        "print(news_dataset['content'])"
      ],
      "metadata": {
        "colab": {
          "base_uri": "https://localhost:8080/"
        },
        "id": "mv2fZvSN5Tli",
        "outputId": "9ed8cd4a-266d-4bf9-e6b2-4f248fd571b5"
      },
      "execution_count": null,
      "outputs": [
        {
          "output_type": "stream",
          "name": "stdout",
          "text": [
            "0       Darrell LucusHouse Dem Aide: We Didn’t Even Se...\n",
            "1       Daniel J. FlynnFLYNN: Hillary Clinton, Big Wom...\n",
            "2       Consortiumnews.comWhy the Truth Might Get You ...\n",
            "3       Jessica Purkiss15 Civilians Killed In Single U...\n",
            "4       Howard PortnoyIranian woman jailed for fiction...\n",
            "                              ...                        \n",
            "1995    Guest AuthorNo, Hate Crimes Have NOT ‘Intensif...\n",
            "1996                            Everything gentrification\n",
            "1997    Nate ChurchUbisoft Surprises with ’Mario’ Cros...\n",
            "1998    Jeff PoorTurley: Trump Making Same Arguments a...\n",
            "1999    Ari LiebermanFrom Bad to Worse: Obama’s Ransom...\n",
            "Name: content, Length: 2000, dtype: object\n"
          ]
        }
      ]
    },
    {
      "cell_type": "code",
      "source": [
        "#separating the data labels\n",
        "X = news_dataset.drop('label', axis = 1)\n",
        "Y = news_dataset['label']\n",
        "print(X)\n",
        "print(Y)\n"
      ],
      "metadata": {
        "colab": {
          "base_uri": "https://localhost:8080/"
        },
        "id": "2MkmfIce5xpW",
        "outputId": "a579db74-3d51-4108-cc06-016a309ce813"
      },
      "execution_count": null,
      "outputs": [
        {
          "output_type": "stream",
          "name": "stdout",
          "text": [
            "        id                                              title  \\\n",
            "0        0  House Dem Aide: We Didn’t Even See Comey’s Let...   \n",
            "1        1  FLYNN: Hillary Clinton, Big Woman on Campus - ...   \n",
            "2        2                  Why the Truth Might Get You Fired   \n",
            "3        3  15 Civilians Killed In Single US Airstrike Hav...   \n",
            "4        4  Iranian woman jailed for fictional unpublished...   \n",
            "...    ...                                                ...   \n",
            "1995  1995  No, Hate Crimes Have NOT ‘Intensified’ Since T...   \n",
            "1996  1996                          Everything gentrification   \n",
            "1997  1997  Ubisoft Surprises with ’Mario’ Crossover Title...   \n",
            "1998  1998  Turley: Trump Making Same Arguments as Obama i...   \n",
            "1999  1999  From Bad to Worse: Obama’s Ransom Payment to I...   \n",
            "\n",
            "                  author                                               text  \\\n",
            "0          Darrell Lucus  House Dem Aide: We Didn’t Even See Comey’s Let...   \n",
            "1        Daniel J. Flynn  Ever get the feeling your life circles the rou...   \n",
            "2     Consortiumnews.com  Why the Truth Might Get You Fired October 29, ...   \n",
            "3        Jessica Purkiss  Videos 15 Civilians Killed In Single US Airstr...   \n",
            "4         Howard Portnoy  Print \\nAn Iranian woman has been sentenced to...   \n",
            "...                  ...                                                ...   \n",
            "1995        Guest Author    No, Hate Crimes Have NOT ‘Intensified’ Since...   \n",
            "1996                      07-11-16 EVERYTHING is now gentrification, inc...   \n",
            "1997         Nate Church  Ubisoft’s E3 2017 press conference was an unev...   \n",
            "1998           Jeff Poor  Thursday on MSNBC’s “The 11th Hour,” George Wa...   \n",
            "1999       Ari Lieberman  Search form Search From Bad to Worse : Obama’s...   \n",
            "\n",
            "                                                content  \n",
            "0     Darrell LucusHouse Dem Aide: We Didn’t Even Se...  \n",
            "1     Daniel J. FlynnFLYNN: Hillary Clinton, Big Wom...  \n",
            "2     Consortiumnews.comWhy the Truth Might Get You ...  \n",
            "3     Jessica Purkiss15 Civilians Killed In Single U...  \n",
            "4     Howard PortnoyIranian woman jailed for fiction...  \n",
            "...                                                 ...  \n",
            "1995  Guest AuthorNo, Hate Crimes Have NOT ‘Intensif...  \n",
            "1996                          Everything gentrification  \n",
            "1997  Nate ChurchUbisoft Surprises with ’Mario’ Cros...  \n",
            "1998  Jeff PoorTurley: Trump Making Same Arguments a...  \n",
            "1999  Ari LiebermanFrom Bad to Worse: Obama’s Ransom...  \n",
            "\n",
            "[2000 rows x 5 columns]\n",
            "0       1\n",
            "1       0\n",
            "2       1\n",
            "3       1\n",
            "4       1\n",
            "       ..\n",
            "1995    1\n",
            "1996    1\n",
            "1997    0\n",
            "1998    0\n",
            "1999    1\n",
            "Name: label, Length: 2000, dtype: int64\n"
          ]
        }
      ]
    },
    {
      "cell_type": "markdown",
      "source": [
        "### Stemming: the process of reducing the words to root word"
      ],
      "metadata": {
        "id": "616vC2LX6YEh"
      }
    },
    {
      "cell_type": "code",
      "source": [
        "port_stem = PorterStemmer()\n",
        "\n"
      ],
      "metadata": {
        "id": "MAZasWLU6ehz"
      },
      "execution_count": null,
      "outputs": []
    },
    {
      "cell_type": "code",
      "source": [
        "def stemming(content):\n",
        "  stemmed_content = re.sub('[^a-zA-Z]',' ', content)\n",
        "  stemmed_content = stemmed_content.lower()\n",
        "  stemmed_content = stemmed_content.split()\n",
        "  stemmed_content = [port_stem.stem(word) for word in stemmed_content if not word in stopwords.words('english')]\n",
        "  stemmed_content = ' '.join(stemmed_content)\n",
        "  return stemmed_content"
      ],
      "metadata": {
        "id": "K-BoKPqm6q2f"
      },
      "execution_count": null,
      "outputs": []
    },
    {
      "cell_type": "code",
      "source": [
        "news_dataset['content'] = news_dataset['content'].apply(stemming)\n",
        "print(news_dataset['content'])"
      ],
      "metadata": {
        "colab": {
          "base_uri": "https://localhost:8080/"
        },
        "id": "CNiszW47_Kku",
        "outputId": "5e717398-fd09-4145-fb6a-e03e5ebfadc3"
      },
      "execution_count": null,
      "outputs": [
        {
          "output_type": "stream",
          "name": "stdout",
          "text": [
            "0       darrel lucushous dem aid even see comey letter...\n",
            "1       daniel j flynnflynn hillari clinton big woman ...\n",
            "2               consortiumnew comwhi truth might get fire\n",
            "3       jessica purkiss civilian kill singl us airstri...\n",
            "4       howard portnoyiranian woman jail fiction unpub...\n",
            "                              ...                        \n",
            "1995    guest authorno hate crime intensifi sinc trump...\n",
            "1996                                      everyth gentrif\n",
            "1997    nate churchubisoft surpris mario crossov titl ...\n",
            "1998    jeff poorturley trump make argument obama defe...\n",
            "1999    ari liebermanfrom bad wors obama ransom paymen...\n",
            "Name: content, Length: 2000, dtype: object\n"
          ]
        }
      ]
    },
    {
      "cell_type": "code",
      "source": [
        "#separating the data and the label\n",
        "X = news_dataset['content'].values\n",
        "Y = news_dataset['label'].values\n",
        "\n",
        "print(X)\n",
        "print(Y)"
      ],
      "metadata": {
        "colab": {
          "base_uri": "https://localhost:8080/"
        },
        "id": "mTAW20evHKoB",
        "outputId": "2956811f-30cc-453b-9092-935c2d9a3634"
      },
      "execution_count": null,
      "outputs": [
        {
          "output_type": "stream",
          "name": "stdout",
          "text": [
            "['darrel lucushous dem aid even see comey letter jason chaffetz tweet'\n",
            " 'daniel j flynnflynn hillari clinton big woman campu breitbart'\n",
            " 'consortiumnew comwhi truth might get fire' ...\n",
            " 'nate churchubisoft surpris mario crossov titl e press confer breitbart'\n",
            " 'jeff poorturley trump make argument obama defens immigr execut order breitbart'\n",
            " 'ari liebermanfrom bad wors obama ransom payment iran tip iceberg']\n",
            "[1 0 1 ... 0 0 1]\n"
          ]
        }
      ]
    },
    {
      "cell_type": "code",
      "source": [
        "#converting the text data to numerical data\n",
        "vectorizer = TfidfVectorizer()\n",
        "vectorizer.fit(X)\n",
        "\n",
        "X = vectorizer.transform(X)\n",
        "print(X)\n",
        "X.shape"
      ],
      "metadata": {
        "colab": {
          "base_uri": "https://localhost:8080/"
        },
        "id": "eeGGUK80ISkE",
        "outputId": "aaf4f3f0-284f-42bc-b9e6-50afa74baf86"
      },
      "execution_count": null,
      "outputs": [
        {
          "output_type": "stream",
          "name": "stdout",
          "text": [
            "  (0, 5950)\t0.3017426468860144\n",
            "  (0, 5090)\t0.26718920587942463\n",
            "  (0, 3411)\t0.35853965054812\n",
            "  (0, 3302)\t0.30873143642309686\n",
            "  (0, 2948)\t0.24982533665516557\n",
            "  (0, 1875)\t0.2541464514769773\n",
            "  (0, 1460)\t0.3017426468860144\n",
            "  (0, 1389)\t0.3401569206868321\n",
            "  (0, 1135)\t0.26426319775691437\n",
            "  (0, 948)\t0.35853965054812\n",
            "  (0, 132)\t0.2855719357407125\n",
            "  (1, 6284)\t0.37678797453550716\n",
            "  (1, 2613)\t0.2500672279654395\n",
            "  (1, 2090)\t0.4683149318779968\n",
            "  (1, 1378)\t0.3498990344519622\n",
            "  (1, 1072)\t0.2500672279654395\n",
            "  (1, 859)\t0.4683149318779968\n",
            "  (1, 746)\t0.19125536227852988\n",
            "  (1, 601)\t0.3678557957818516\n",
            "  (2, 5934)\t0.39443660287710897\n",
            "  (2, 3677)\t0.44438221209958667\n",
            "  (2, 2261)\t0.3223713124505221\n",
            "  (2, 2035)\t0.3290969530232737\n",
            "  (2, 1199)\t0.44438221209958667\n",
            "  (2, 1165)\t0.4870735035592132\n",
            "  :\t:\n",
            "  (1997, 1315)\t0.38191147208808407\n",
            "  (1997, 1177)\t0.38191147208808407\n",
            "  (1997, 1028)\t0.38191147208808407\n",
            "  (1997, 746)\t0.14797230532787073\n",
            "  (1998, 5929)\t0.15045543284523258\n",
            "  (1998, 4378)\t0.4073079025027321\n",
            "  (1998, 4069)\t0.3035320496679994\n",
            "  (1998, 4006)\t0.23477396413088933\n",
            "  (1998, 3467)\t0.28151691210280294\n",
            "  (1998, 2955)\t0.29708562928393945\n",
            "  (1998, 2781)\t0.29414173417710454\n",
            "  (1998, 1900)\t0.3601151338308131\n",
            "  (1998, 1444)\t0.3427854197182306\n",
            "  (1998, 746)\t0.1578121992043437\n",
            "  (1998, 316)\t0.37160795115557493\n",
            "  (1999, 6305)\t0.29928959415931833\n",
            "  (1999, 5824)\t0.32085783106184823\n",
            "  (1999, 4602)\t0.3442993693473049\n",
            "  (1999, 4216)\t0.32085783106184823\n",
            "  (1999, 4006)\t0.20918050324488696\n",
            "  (1999, 3327)\t0.36290596504832334\n",
            "  (1999, 2883)\t0.2770098777119914\n",
            "  (1999, 2756)\t0.36290596504832334\n",
            "  (1999, 426)\t0.2890496456173457\n",
            "  (1999, 317)\t0.3442993693473049\n"
          ]
        },
        {
          "output_type": "execute_result",
          "data": {
            "text/plain": [
              "(2000, 6391)"
            ]
          },
          "metadata": {},
          "execution_count": 13
        }
      ]
    },
    {
      "cell_type": "markdown",
      "source": [
        "## Training and Testing: Logistic regression model"
      ],
      "metadata": {
        "id": "CIeAohojKVMe"
      }
    },
    {
      "cell_type": "code",
      "source": [
        "# Splitting the dataset to training and test data\n",
        "X_train, X_test, Y_train, Y_test = train_test_split(X,Y, test_size = 0.2, stratify = Y, random_state =2)"
      ],
      "metadata": {
        "id": "8KKlc6OhJk0F"
      },
      "execution_count": null,
      "outputs": []
    },
    {
      "cell_type": "code",
      "source": [
        "model = LogisticRegression()\n",
        "model.fit(X_train, Y_train)"
      ],
      "metadata": {
        "colab": {
          "base_uri": "https://localhost:8080/",
          "height": 75
        },
        "id": "6A6kqnHlKbEU",
        "outputId": "871572ea-b4d2-428c-a8cc-39547ab1a476"
      },
      "execution_count": null,
      "outputs": [
        {
          "output_type": "execute_result",
          "data": {
            "text/plain": [
              "LogisticRegression()"
            ],
            "text/html": [
              "<style>#sk-container-id-1 {color: black;background-color: white;}#sk-container-id-1 pre{padding: 0;}#sk-container-id-1 div.sk-toggleable {background-color: white;}#sk-container-id-1 label.sk-toggleable__label {cursor: pointer;display: block;width: 100%;margin-bottom: 0;padding: 0.3em;box-sizing: border-box;text-align: center;}#sk-container-id-1 label.sk-toggleable__label-arrow:before {content: \"▸\";float: left;margin-right: 0.25em;color: #696969;}#sk-container-id-1 label.sk-toggleable__label-arrow:hover:before {color: black;}#sk-container-id-1 div.sk-estimator:hover label.sk-toggleable__label-arrow:before {color: black;}#sk-container-id-1 div.sk-toggleable__content {max-height: 0;max-width: 0;overflow: hidden;text-align: left;background-color: #f0f8ff;}#sk-container-id-1 div.sk-toggleable__content pre {margin: 0.2em;color: black;border-radius: 0.25em;background-color: #f0f8ff;}#sk-container-id-1 input.sk-toggleable__control:checked~div.sk-toggleable__content {max-height: 200px;max-width: 100%;overflow: auto;}#sk-container-id-1 input.sk-toggleable__control:checked~label.sk-toggleable__label-arrow:before {content: \"▾\";}#sk-container-id-1 div.sk-estimator input.sk-toggleable__control:checked~label.sk-toggleable__label {background-color: #d4ebff;}#sk-container-id-1 div.sk-label input.sk-toggleable__control:checked~label.sk-toggleable__label {background-color: #d4ebff;}#sk-container-id-1 input.sk-hidden--visually {border: 0;clip: rect(1px 1px 1px 1px);clip: rect(1px, 1px, 1px, 1px);height: 1px;margin: -1px;overflow: hidden;padding: 0;position: absolute;width: 1px;}#sk-container-id-1 div.sk-estimator {font-family: monospace;background-color: #f0f8ff;border: 1px dotted black;border-radius: 0.25em;box-sizing: border-box;margin-bottom: 0.5em;}#sk-container-id-1 div.sk-estimator:hover {background-color: #d4ebff;}#sk-container-id-1 div.sk-parallel-item::after {content: \"\";width: 100%;border-bottom: 1px solid gray;flex-grow: 1;}#sk-container-id-1 div.sk-label:hover label.sk-toggleable__label {background-color: #d4ebff;}#sk-container-id-1 div.sk-serial::before {content: \"\";position: absolute;border-left: 1px solid gray;box-sizing: border-box;top: 0;bottom: 0;left: 50%;z-index: 0;}#sk-container-id-1 div.sk-serial {display: flex;flex-direction: column;align-items: center;background-color: white;padding-right: 0.2em;padding-left: 0.2em;position: relative;}#sk-container-id-1 div.sk-item {position: relative;z-index: 1;}#sk-container-id-1 div.sk-parallel {display: flex;align-items: stretch;justify-content: center;background-color: white;position: relative;}#sk-container-id-1 div.sk-item::before, #sk-container-id-1 div.sk-parallel-item::before {content: \"\";position: absolute;border-left: 1px solid gray;box-sizing: border-box;top: 0;bottom: 0;left: 50%;z-index: -1;}#sk-container-id-1 div.sk-parallel-item {display: flex;flex-direction: column;z-index: 1;position: relative;background-color: white;}#sk-container-id-1 div.sk-parallel-item:first-child::after {align-self: flex-end;width: 50%;}#sk-container-id-1 div.sk-parallel-item:last-child::after {align-self: flex-start;width: 50%;}#sk-container-id-1 div.sk-parallel-item:only-child::after {width: 0;}#sk-container-id-1 div.sk-dashed-wrapped {border: 1px dashed gray;margin: 0 0.4em 0.5em 0.4em;box-sizing: border-box;padding-bottom: 0.4em;background-color: white;}#sk-container-id-1 div.sk-label label {font-family: monospace;font-weight: bold;display: inline-block;line-height: 1.2em;}#sk-container-id-1 div.sk-label-container {text-align: center;}#sk-container-id-1 div.sk-container {/* jupyter's `normalize.less` sets `[hidden] { display: none; }` but bootstrap.min.css set `[hidden] { display: none !important; }` so we also need the `!important` here to be able to override the default hidden behavior on the sphinx rendered scikit-learn.org. See: https://github.com/scikit-learn/scikit-learn/issues/21755 */display: inline-block !important;position: relative;}#sk-container-id-1 div.sk-text-repr-fallback {display: none;}</style><div id=\"sk-container-id-1\" class=\"sk-top-container\"><div class=\"sk-text-repr-fallback\"><pre>LogisticRegression()</pre><b>In a Jupyter environment, please rerun this cell to show the HTML representation or trust the notebook. <br />On GitHub, the HTML representation is unable to render, please try loading this page with nbviewer.org.</b></div><div class=\"sk-container\" hidden><div class=\"sk-item\"><div class=\"sk-estimator sk-toggleable\"><input class=\"sk-toggleable__control sk-hidden--visually\" id=\"sk-estimator-id-1\" type=\"checkbox\" checked><label for=\"sk-estimator-id-1\" class=\"sk-toggleable__label sk-toggleable__label-arrow\">LogisticRegression</label><div class=\"sk-toggleable__content\"><pre>LogisticRegression()</pre></div></div></div></div></div>"
            ]
          },
          "metadata": {},
          "execution_count": 15
        }
      ]
    },
    {
      "cell_type": "markdown",
      "source": [
        "Evaluation:accuracy score"
      ],
      "metadata": {
        "id": "AaY7q7w-Lewd"
      }
    },
    {
      "cell_type": "code",
      "source": [
        "#accuracy score on the training data\n",
        "X_train_prediction = model.predict(X_train)\n",
        "print(X_train_prediction)\n",
        "training_data_accuracy = accuracy_score(X_train_prediction, Y_train)\n",
        "print('Accuracy score of the training data :', training_data_accuracy)"
      ],
      "metadata": {
        "colab": {
          "base_uri": "https://localhost:8080/"
        },
        "id": "3KeqJp-JLjsr",
        "outputId": "b2ee5f67-3d03-42b4-bef6-70114f458c6d"
      },
      "execution_count": null,
      "outputs": [
        {
          "output_type": "stream",
          "name": "stdout",
          "text": [
            "[0 1 0 ... 1 0 1]\n",
            "Accuracy score of the training data : 0.954375\n"
          ]
        }
      ]
    },
    {
      "cell_type": "code",
      "source": [
        "#accuracy score on test data\n",
        "X_test_prediction = model.predict(X_test)\n",
        "test_data_accuracy = accuracy_score(X_test_prediction, Y_test)\n",
        "print('Accuracy score of the test data :', test_data_accuracy)\n"
      ],
      "metadata": {
        "colab": {
          "base_uri": "https://localhost:8080/"
        },
        "id": "3KSf4sinMR6_",
        "outputId": "d2a1e020-e974-4a04-9558-3337d30b3202"
      },
      "execution_count": null,
      "outputs": [
        {
          "output_type": "stream",
          "name": "stdout",
          "text": [
            "Accuracy score of the test data : 0.92\n"
          ]
        }
      ]
    }
  ]
}